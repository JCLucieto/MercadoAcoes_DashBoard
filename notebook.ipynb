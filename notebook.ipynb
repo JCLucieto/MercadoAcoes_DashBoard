{
 "cells": [
  {
   "cell_type": "markdown",
   "metadata": {},
   "source": [
    "# Preparação de Arquivos NASDAQ"
   ]
  },
  {
   "cell_type": "markdown",
   "metadata": {},
   "source": [
    "### Este notebook faz parte de um projeto de Análise do Mercado de Ações \n",
    "### durante os períodos de governo americano por Joe Biden e Donaldo Trump.\n",
    "### Ele prepara os arquivos baixados do site da NASDAQ com o Common Stock\n",
    "### de 12 das principais empresas de tecnologia :\n",
    "- ADOBE\n",
    "- ALPHABET (Google Class A)\n",
    "- ALPHABET (Google Class C)\n",
    "- AMAZON\n",
    "- APPLE\n",
    "- IBM\n",
    "- INTEL\n",
    "- META (Class A)\n",
    "- MICROSOFT\n",
    "- NVIDIA\n",
    "- ORACLE\n",
    "- PAYPAL\n",
    "- TESLA"
   ]
  },
  {
   "cell_type": "markdown",
   "metadata": {},
   "source": [
    "### Todos os arquivos CSV foram analisados previamente e possuem exatamente o mesmo formato e tamanho :  \n",
    "- 1258 Linhas\n",
    "- 6 Colunas\n",
    "- Iniciam  em : 23.01.2025 (Data mais Recente)\n",
    "- Terminam em : 24.01.2020 (Data Mais Antiga)"
   ]
  },
  {
   "cell_type": "code",
   "execution_count": 1,
   "metadata": {},
   "outputs": [],
   "source": [
    "# Imports\n",
    "\n",
    "import pandas as pd"
   ]
  },
  {
   "cell_type": "markdown",
   "metadata": {},
   "source": [
    "## Carrega os Datasets"
   ]
  },
  {
   "cell_type": "code",
   "execution_count": 2,
   "metadata": {},
   "outputs": [],
   "source": [
    "# Cria os dataframes com a carga dos arquivos CSV\n",
    "\n",
    "df_adobe = pd.read_csv('Adobe-2025.csv')\n",
    "df_google_a = pd.read_csv('Google-A-2025.csv')\n",
    "df_google_c = pd.read_csv('Google-C-2025.csv')\n",
    "df_amazon = pd.read_csv('Amazon-2025.csv')\n",
    "df_apple = pd.read_csv('Apple-2025.csv')\n",
    "df_ibm = pd.read_csv('IBM-2025.csv')\n",
    "df_intel = pd.read_csv('Intel-2025.csv')\n",
    "df_meta = pd.read_csv('Meta-2025.csv')\n",
    "df_microsoft = pd.read_csv('Microsoft-2025.csv')\n",
    "df_nvidia = pd.read_csv('Nvidia-2025.csv')\n",
    "df_oracle = pd.read_csv('Oracle-2025.csv')\n",
    "df_paypal = pd.read_csv('PayPal-2025.csv')\n",
    "df_tesla = pd.read_csv('Tesla-2025.csv')"
   ]
  },
  {
   "cell_type": "code",
   "execution_count": 3,
   "metadata": {},
   "outputs": [],
   "source": [
    "# Insere uma nova coluna 'Empresa' na primeira posição (índice 0)\n",
    "\n",
    "df_adobe.insert(0, 'Empresa', 'Adobe')\n",
    "df_google_a.insert(0, 'Empresa', 'Google (A)')\n",
    "df_google_c.insert(0, 'Empresa', 'Google (C)')\n",
    "df_amazon.insert(0, 'Empresa', 'Amazon')\n",
    "df_apple.insert(0, 'Empresa', 'Apple')\n",
    "df_ibm.insert(0, 'Empresa', 'IBM')\n",
    "df_intel.insert(0, 'Empresa', 'Intel')\n",
    "df_meta.insert(0, 'Empresa', 'Meta')\n",
    "df_microsoft.insert(0, 'Empresa', 'Microsoft')\n",
    "df_nvidia.insert(0, 'Empresa', 'Nvidia')\n",
    "df_oracle.insert(0, 'Empresa', 'Oracle')\n",
    "df_paypal.insert(0, 'Empresa', 'PayPal')\n",
    "df_tesla.insert(0, 'Empresa', 'Tesla')"
   ]
  },
  {
   "cell_type": "markdown",
   "metadata": {},
   "source": [
    "## Concatena todos os dataframes em um único"
   ]
  },
  {
   "cell_type": "code",
   "execution_count": 4,
   "metadata": {},
   "outputs": [],
   "source": [
    "# Concatenando os DataFrames verticalmente (empilhando um em cima do outro)\n",
    "\n",
    "df_concatenado = pd.concat([df_adobe, df_google_a, df_google_c, df_amazon, df_apple,\n",
    "                            df_ibm, df_intel, df_meta, df_microsoft, df_nvidia,\n",
    "                            df_oracle, df_paypal, df_tesla], ignore_index=True)"
   ]
  },
  {
   "cell_type": "code",
   "execution_count": 5,
   "metadata": {},
   "outputs": [
    {
     "data": {
      "text/plain": [
       "(16341, 7)"
      ]
     },
     "execution_count": 5,
     "metadata": {},
     "output_type": "execute_result"
    }
   ],
   "source": [
    "# Volume\n",
    "\n",
    "df_concatenado.shape"
   ]
  },
  {
   "cell_type": "code",
   "execution_count": 6,
   "metadata": {},
   "outputs": [
    {
     "data": {
      "text/html": [
       "<div>\n",
       "<style scoped>\n",
       "    .dataframe tbody tr th:only-of-type {\n",
       "        vertical-align: middle;\n",
       "    }\n",
       "\n",
       "    .dataframe tbody tr th {\n",
       "        vertical-align: top;\n",
       "    }\n",
       "\n",
       "    .dataframe thead th {\n",
       "        text-align: right;\n",
       "    }\n",
       "</style>\n",
       "<table border=\"1\" class=\"dataframe\">\n",
       "  <thead>\n",
       "    <tr style=\"text-align: right;\">\n",
       "      <th></th>\n",
       "      <th>Empresa</th>\n",
       "      <th>Date</th>\n",
       "      <th>Close/Last</th>\n",
       "      <th>Volume</th>\n",
       "      <th>Open</th>\n",
       "      <th>High</th>\n",
       "      <th>Low</th>\n",
       "    </tr>\n",
       "  </thead>\n",
       "  <tbody>\n",
       "    <tr>\n",
       "      <th>0</th>\n",
       "      <td>Adobe</td>\n",
       "      <td>01/23/2025</td>\n",
       "      <td>$437.28</td>\n",
       "      <td>2716742</td>\n",
       "      <td>$435.88</td>\n",
       "      <td>$437.73</td>\n",
       "      <td>$432.49</td>\n",
       "    </tr>\n",
       "    <tr>\n",
       "      <th>1</th>\n",
       "      <td>Adobe</td>\n",
       "      <td>01/22/2025</td>\n",
       "      <td>$437.32</td>\n",
       "      <td>3391642</td>\n",
       "      <td>$438.00</td>\n",
       "      <td>$439.73</td>\n",
       "      <td>$433.43</td>\n",
       "    </tr>\n",
       "    <tr>\n",
       "      <th>2</th>\n",
       "      <td>Adobe</td>\n",
       "      <td>01/21/2025</td>\n",
       "      <td>$436.36</td>\n",
       "      <td>3833294</td>\n",
       "      <td>$433.26</td>\n",
       "      <td>$439.98</td>\n",
       "      <td>$431.50</td>\n",
       "    </tr>\n",
       "    <tr>\n",
       "      <th>3</th>\n",
       "      <td>Adobe</td>\n",
       "      <td>01/17/2025</td>\n",
       "      <td>$429.99</td>\n",
       "      <td>4012745</td>\n",
       "      <td>$434.345</td>\n",
       "      <td>$435.99</td>\n",
       "      <td>$425.70</td>\n",
       "    </tr>\n",
       "  </tbody>\n",
       "</table>\n",
       "</div>"
      ],
      "text/plain": [
       "  Empresa        Date Close/Last   Volume      Open     High      Low\n",
       "0   Adobe  01/23/2025    $437.28  2716742   $435.88  $437.73  $432.49\n",
       "1   Adobe  01/22/2025    $437.32  3391642   $438.00  $439.73  $433.43\n",
       "2   Adobe  01/21/2025    $436.36  3833294   $433.26  $439.98  $431.50\n",
       "3   Adobe  01/17/2025    $429.99  4012745  $434.345  $435.99  $425.70"
      ]
     },
     "execution_count": 6,
     "metadata": {},
     "output_type": "execute_result"
    }
   ],
   "source": [
    "# Exibindo o DataFrame concatenado\n",
    "\n",
    "df_concatenado.head(4)"
   ]
  },
  {
   "cell_type": "code",
   "execution_count": 7,
   "metadata": {},
   "outputs": [
    {
     "name": "stdout",
     "output_type": "stream",
     "text": [
      "<class 'pandas.core.frame.DataFrame'>\n",
      "RangeIndex: 16341 entries, 0 to 16340\n",
      "Data columns (total 7 columns):\n",
      " #   Column      Non-Null Count  Dtype \n",
      "---  ------      --------------  ----- \n",
      " 0   Empresa     16341 non-null  object\n",
      " 1   Date        16341 non-null  object\n",
      " 2   Close/Last  16341 non-null  object\n",
      " 3   Volume      16341 non-null  int64 \n",
      " 4   Open        16341 non-null  object\n",
      " 5   High        16341 non-null  object\n",
      " 6   Low         16341 non-null  object\n",
      "dtypes: int64(1), object(6)\n",
      "memory usage: 893.8+ KB\n"
     ]
    }
   ],
   "source": [
    "# Informações\n",
    "\n",
    "df_concatenado.info()"
   ]
  },
  {
   "cell_type": "code",
   "execution_count": 8,
   "metadata": {},
   "outputs": [
    {
     "data": {
      "text/html": [
       "<div>\n",
       "<style scoped>\n",
       "    .dataframe tbody tr th:only-of-type {\n",
       "        vertical-align: middle;\n",
       "    }\n",
       "\n",
       "    .dataframe tbody tr th {\n",
       "        vertical-align: top;\n",
       "    }\n",
       "\n",
       "    .dataframe thead th {\n",
       "        text-align: right;\n",
       "    }\n",
       "</style>\n",
       "<table border=\"1\" class=\"dataframe\">\n",
       "  <thead>\n",
       "    <tr style=\"text-align: right;\">\n",
       "      <th></th>\n",
       "      <th>Empresa</th>\n",
       "      <th>Date</th>\n",
       "      <th>Close/Last</th>\n",
       "      <th>Volume</th>\n",
       "      <th>Open</th>\n",
       "      <th>High</th>\n",
       "      <th>Low</th>\n",
       "    </tr>\n",
       "  </thead>\n",
       "  <tbody>\n",
       "    <tr>\n",
       "      <th>9291</th>\n",
       "      <td>Meta</td>\n",
       "      <td>02/06/2023</td>\n",
       "      <td>$186.06</td>\n",
       "      <td>42483810</td>\n",
       "      <td>$186.53</td>\n",
       "      <td>$190.70</td>\n",
       "      <td>$185.5156</td>\n",
       "    </tr>\n",
       "    <tr>\n",
       "      <th>12417</th>\n",
       "      <td>Nvidia</td>\n",
       "      <td>08/31/2020</td>\n",
       "      <td>$13.3745</td>\n",
       "      <td>500841200</td>\n",
       "      <td>$13.1828</td>\n",
       "      <td>$13.575</td>\n",
       "      <td>$13.0378</td>\n",
       "    </tr>\n",
       "    <tr>\n",
       "      <th>9205</th>\n",
       "      <td>Meta</td>\n",
       "      <td>06/09/2023</td>\n",
       "      <td>$264.95</td>\n",
       "      <td>16949790</td>\n",
       "      <td>$262.48</td>\n",
       "      <td>$267.949</td>\n",
       "      <td>$261.70</td>\n",
       "    </tr>\n",
       "    <tr>\n",
       "      <th>12477</th>\n",
       "      <td>Nvidia</td>\n",
       "      <td>06/05/2020</td>\n",
       "      <td>$8.92</td>\n",
       "      <td>481746000</td>\n",
       "      <td>$8.7945</td>\n",
       "      <td>$8.997</td>\n",
       "      <td>$8.708</td>\n",
       "    </tr>\n",
       "    <tr>\n",
       "      <th>15250</th>\n",
       "      <td>Tesla</td>\n",
       "      <td>05/23/2024</td>\n",
       "      <td>$173.74</td>\n",
       "      <td>71975500</td>\n",
       "      <td>$181.80</td>\n",
       "      <td>$181.90</td>\n",
       "      <td>$173.26</td>\n",
       "    </tr>\n",
       "    <tr>\n",
       "      <th>9247</th>\n",
       "      <td>Meta</td>\n",
       "      <td>04/11/2023</td>\n",
       "      <td>$213.85</td>\n",
       "      <td>16710100</td>\n",
       "      <td>$215.48</td>\n",
       "      <td>$216.02</td>\n",
       "      <td>$213.41</td>\n",
       "    </tr>\n",
       "    <tr>\n",
       "      <th>3107</th>\n",
       "      <td>Google (C)</td>\n",
       "      <td>09/12/2022</td>\n",
       "      <td>$111.87</td>\n",
       "      <td>19732910</td>\n",
       "      <td>$111.99</td>\n",
       "      <td>$112.64</td>\n",
       "      <td>$110.93</td>\n",
       "    </tr>\n",
       "    <tr>\n",
       "      <th>3749</th>\n",
       "      <td>Google (C)</td>\n",
       "      <td>02/25/2020</td>\n",
       "      <td>$69.4225</td>\n",
       "      <td>49565560</td>\n",
       "      <td>$71.65</td>\n",
       "      <td>$71.907</td>\n",
       "      <td>$69.12</td>\n",
       "    </tr>\n",
       "  </tbody>\n",
       "</table>\n",
       "</div>"
      ],
      "text/plain": [
       "          Empresa        Date Close/Last     Volume      Open      High  \\\n",
       "9291         Meta  02/06/2023    $186.06   42483810   $186.53   $190.70   \n",
       "12417      Nvidia  08/31/2020   $13.3745  500841200  $13.1828   $13.575   \n",
       "9205         Meta  06/09/2023    $264.95   16949790   $262.48  $267.949   \n",
       "12477      Nvidia  06/05/2020      $8.92  481746000   $8.7945    $8.997   \n",
       "15250       Tesla  05/23/2024    $173.74   71975500   $181.80   $181.90   \n",
       "9247         Meta  04/11/2023    $213.85   16710100   $215.48   $216.02   \n",
       "3107   Google (C)  09/12/2022    $111.87   19732910   $111.99   $112.64   \n",
       "3749   Google (C)  02/25/2020   $69.4225   49565560    $71.65   $71.907   \n",
       "\n",
       "             Low  \n",
       "9291   $185.5156  \n",
       "12417   $13.0378  \n",
       "9205     $261.70  \n",
       "12477     $8.708  \n",
       "15250    $173.26  \n",
       "9247     $213.41  \n",
       "3107     $110.93  \n",
       "3749      $69.12  "
      ]
     },
     "execution_count": 8,
     "metadata": {},
     "output_type": "execute_result"
    }
   ],
   "source": [
    "# Linhas Aleatórias\n",
    "\n",
    "df_concatenado.sample(8)"
   ]
  },
  {
   "cell_type": "markdown",
   "metadata": {},
   "source": [
    "## Tratamento das Colunas"
   ]
  },
  {
   "cell_type": "code",
   "execution_count": 9,
   "metadata": {},
   "outputs": [],
   "source": [
    "# Converte a coluna 'Date' para Timestamp no formato em que ela está mm/dd/yyyy\n",
    "\n",
    "df_concatenado['Date'] = pd.to_datetime(df_concatenado['Date'], format='%m/%d/%Y')"
   ]
  },
  {
   "cell_type": "code",
   "execution_count": 10,
   "metadata": {},
   "outputs": [],
   "source": [
    "# Removendo o caractere '$' de todas as colunas do DataFrame\n",
    "\n",
    "df_concatenado = df_concatenado.replace({r'\\$': ''}, regex=True)"
   ]
  },
  {
   "cell_type": "code",
   "execution_count": 11,
   "metadata": {},
   "outputs": [],
   "source": [
    "# Convertendo a coluna 'Close/Last' para o tipo float\n",
    "\n",
    "df_concatenado['Close/Last'] = df_concatenado['Close/Last'].astype(float)\n",
    "\n",
    "# Arredondando a coluna 'Close/Last' para 2 casas decimais\n",
    "\n",
    "df_concatenado['Close/Last'] = df_concatenado['Close/Last'].round(2)"
   ]
  },
  {
   "cell_type": "code",
   "execution_count": 12,
   "metadata": {},
   "outputs": [],
   "source": [
    "# Convertendo a coluna 'Volume' para o tipo int\n",
    "\n",
    "df_concatenado['Volume'] = df_concatenado['Volume'].astype(int)"
   ]
  },
  {
   "cell_type": "code",
   "execution_count": 13,
   "metadata": {},
   "outputs": [],
   "source": [
    "# Convertendo a coluna 'Open' para o tipo float\n",
    "\n",
    "df_concatenado['Open'] = df_concatenado['Open'].astype(float)\n",
    "\n",
    "# Arredondando a coluna 'Open' para 2 casas decimais\n",
    "\n",
    "df_concatenado['Open'] = df_concatenado['Open'].round(2)"
   ]
  },
  {
   "cell_type": "code",
   "execution_count": 14,
   "metadata": {},
   "outputs": [],
   "source": [
    "# Convertendo a coluna 'High' para o tipo float\n",
    "\n",
    "df_concatenado['High'] = df_concatenado['High'].astype(float)\n",
    "\n",
    "# Arredondando a coluna 'High' para 2 casas decimais\n",
    "\n",
    "df_concatenado['High'] = df_concatenado['High'].round(2)"
   ]
  },
  {
   "cell_type": "code",
   "execution_count": 15,
   "metadata": {},
   "outputs": [],
   "source": [
    "# Convertendo a coluna 'Low' para o tipo float\n",
    "\n",
    "df_concatenado['Low'] = df_concatenado['Low'].astype(float)\n",
    "\n",
    "# Arredondando a coluna 'Low' para 2 casas decimais\n",
    "\n",
    "df_concatenado['Low'] = df_concatenado['Low'].round(2)"
   ]
  },
  {
   "cell_type": "code",
   "execution_count": 16,
   "metadata": {},
   "outputs": [
    {
     "data": {
      "text/html": [
       "<div>\n",
       "<style scoped>\n",
       "    .dataframe tbody tr th:only-of-type {\n",
       "        vertical-align: middle;\n",
       "    }\n",
       "\n",
       "    .dataframe tbody tr th {\n",
       "        vertical-align: top;\n",
       "    }\n",
       "\n",
       "    .dataframe thead th {\n",
       "        text-align: right;\n",
       "    }\n",
       "</style>\n",
       "<table border=\"1\" class=\"dataframe\">\n",
       "  <thead>\n",
       "    <tr style=\"text-align: right;\">\n",
       "      <th></th>\n",
       "      <th>Empresa</th>\n",
       "      <th>Date</th>\n",
       "      <th>Close/Last</th>\n",
       "      <th>Volume</th>\n",
       "      <th>Open</th>\n",
       "      <th>High</th>\n",
       "      <th>Low</th>\n",
       "    </tr>\n",
       "  </thead>\n",
       "  <tbody>\n",
       "    <tr>\n",
       "      <th>1013</th>\n",
       "      <td>Adobe</td>\n",
       "      <td>2021-01-11</td>\n",
       "      <td>474.24</td>\n",
       "      <td>2383254</td>\n",
       "      <td>481.99</td>\n",
       "      <td>482.59</td>\n",
       "      <td>471.30</td>\n",
       "    </tr>\n",
       "    <tr>\n",
       "      <th>13103</th>\n",
       "      <td>Oracle</td>\n",
       "      <td>2022-12-06</td>\n",
       "      <td>78.91</td>\n",
       "      <td>7656126</td>\n",
       "      <td>79.35</td>\n",
       "      <td>79.82</td>\n",
       "      <td>78.06</td>\n",
       "    </tr>\n",
       "    <tr>\n",
       "      <th>10018</th>\n",
       "      <td>Meta</td>\n",
       "      <td>2020-03-18</td>\n",
       "      <td>146.96</td>\n",
       "      <td>37553140</td>\n",
       "      <td>139.75</td>\n",
       "      <td>148.18</td>\n",
       "      <td>137.10</td>\n",
       "    </tr>\n",
       "    <tr>\n",
       "      <th>4415</th>\n",
       "      <td>Amazon</td>\n",
       "      <td>2022-06-29</td>\n",
       "      <td>108.92</td>\n",
       "      <td>66375340</td>\n",
       "      <td>107.38</td>\n",
       "      <td>110.99</td>\n",
       "      <td>106.91</td>\n",
       "    </tr>\n",
       "    <tr>\n",
       "      <th>9786</th>\n",
       "      <td>Meta</td>\n",
       "      <td>2021-02-18</td>\n",
       "      <td>269.39</td>\n",
       "      <td>15249130</td>\n",
       "      <td>269.56</td>\n",
       "      <td>271.95</td>\n",
       "      <td>266.03</td>\n",
       "    </tr>\n",
       "    <tr>\n",
       "      <th>1003</th>\n",
       "      <td>Adobe</td>\n",
       "      <td>2021-01-26</td>\n",
       "      <td>476.28</td>\n",
       "      <td>2363124</td>\n",
       "      <td>473.73</td>\n",
       "      <td>477.22</td>\n",
       "      <td>467.76</td>\n",
       "    </tr>\n",
       "    <tr>\n",
       "      <th>3002</th>\n",
       "      <td>Google (C)</td>\n",
       "      <td>2023-02-10</td>\n",
       "      <td>94.86</td>\n",
       "      <td>49325280</td>\n",
       "      <td>95.74</td>\n",
       "      <td>97.02</td>\n",
       "      <td>94.53</td>\n",
       "    </tr>\n",
       "    <tr>\n",
       "      <th>3726</th>\n",
       "      <td>Google (C)</td>\n",
       "      <td>2020-03-27</td>\n",
       "      <td>55.54</td>\n",
       "      <td>64169900</td>\n",
       "      <td>56.28</td>\n",
       "      <td>57.53</td>\n",
       "      <td>55.30</td>\n",
       "    </tr>\n",
       "  </tbody>\n",
       "</table>\n",
       "</div>"
      ],
      "text/plain": [
       "          Empresa       Date  Close/Last    Volume    Open    High     Low\n",
       "1013        Adobe 2021-01-11      474.24   2383254  481.99  482.59  471.30\n",
       "13103      Oracle 2022-12-06       78.91   7656126   79.35   79.82   78.06\n",
       "10018        Meta 2020-03-18      146.96  37553140  139.75  148.18  137.10\n",
       "4415       Amazon 2022-06-29      108.92  66375340  107.38  110.99  106.91\n",
       "9786         Meta 2021-02-18      269.39  15249130  269.56  271.95  266.03\n",
       "1003        Adobe 2021-01-26      476.28   2363124  473.73  477.22  467.76\n",
       "3002   Google (C) 2023-02-10       94.86  49325280   95.74   97.02   94.53\n",
       "3726   Google (C) 2020-03-27       55.54  64169900   56.28   57.53   55.30"
      ]
     },
     "execution_count": 16,
     "metadata": {},
     "output_type": "execute_result"
    }
   ],
   "source": [
    "# Linhas Aleatórias\n",
    "\n",
    "df_concatenado.sample(8)"
   ]
  },
  {
   "cell_type": "code",
   "execution_count": 17,
   "metadata": {},
   "outputs": [
    {
     "name": "stdout",
     "output_type": "stream",
     "text": [
      "<class 'pandas.core.frame.DataFrame'>\n",
      "RangeIndex: 16341 entries, 0 to 16340\n",
      "Data columns (total 7 columns):\n",
      " #   Column      Non-Null Count  Dtype         \n",
      "---  ------      --------------  -----         \n",
      " 0   Empresa     16341 non-null  object        \n",
      " 1   Date        16341 non-null  datetime64[ns]\n",
      " 2   Close/Last  16341 non-null  float64       \n",
      " 3   Volume      16341 non-null  int64         \n",
      " 4   Open        16341 non-null  float64       \n",
      " 5   High        16341 non-null  float64       \n",
      " 6   Low         16341 non-null  float64       \n",
      "dtypes: datetime64[ns](1), float64(4), int64(1), object(1)\n",
      "memory usage: 893.8+ KB\n"
     ]
    }
   ],
   "source": [
    "# Informações\n",
    "\n",
    "df_concatenado.info()"
   ]
  },
  {
   "cell_type": "code",
   "execution_count": 18,
   "metadata": {},
   "outputs": [],
   "source": [
    "# Renomeando as colunas\n",
    "\n",
    "df_concatenado = df_concatenado.rename(columns={'Date': 'Data'})\n",
    "df_concatenado = df_concatenado.rename(columns={'Close/Last': 'Fechamento'})\n",
    "df_concatenado = df_concatenado.rename(columns={'Open': 'Abertura'})\n",
    "df_concatenado = df_concatenado.rename(columns={'High': 'Maximo'})\n",
    "df_concatenado = df_concatenado.rename(columns={'Low': 'Minimo'})"
   ]
  },
  {
   "cell_type": "code",
   "execution_count": 19,
   "metadata": {},
   "outputs": [
    {
     "name": "stdout",
     "output_type": "stream",
     "text": [
      "<class 'pandas.core.frame.DataFrame'>\n",
      "RangeIndex: 16341 entries, 0 to 16340\n",
      "Data columns (total 7 columns):\n",
      " #   Column      Non-Null Count  Dtype         \n",
      "---  ------      --------------  -----         \n",
      " 0   Empresa     16341 non-null  object        \n",
      " 1   Data        16341 non-null  datetime64[ns]\n",
      " 2   Fechamento  16341 non-null  float64       \n",
      " 3   Volume      16341 non-null  int64         \n",
      " 4   Abertura    16341 non-null  float64       \n",
      " 5   Maximo      16341 non-null  float64       \n",
      " 6   Minimo      16341 non-null  float64       \n",
      "dtypes: datetime64[ns](1), float64(4), int64(1), object(1)\n",
      "memory usage: 893.8+ KB\n"
     ]
    }
   ],
   "source": [
    "# Informações\n",
    "\n",
    "df_concatenado.info()"
   ]
  },
  {
   "cell_type": "code",
   "execution_count": 20,
   "metadata": {},
   "outputs": [
    {
     "data": {
      "text/html": [
       "<div>\n",
       "<style scoped>\n",
       "    .dataframe tbody tr th:only-of-type {\n",
       "        vertical-align: middle;\n",
       "    }\n",
       "\n",
       "    .dataframe tbody tr th {\n",
       "        vertical-align: top;\n",
       "    }\n",
       "\n",
       "    .dataframe thead th {\n",
       "        text-align: right;\n",
       "    }\n",
       "</style>\n",
       "<table border=\"1\" class=\"dataframe\">\n",
       "  <thead>\n",
       "    <tr style=\"text-align: right;\">\n",
       "      <th></th>\n",
       "      <th>Empresa</th>\n",
       "      <th>Data</th>\n",
       "      <th>Fechamento</th>\n",
       "      <th>Volume</th>\n",
       "      <th>Abertura</th>\n",
       "      <th>Maximo</th>\n",
       "      <th>Minimo</th>\n",
       "    </tr>\n",
       "  </thead>\n",
       "  <tbody>\n",
       "    <tr>\n",
       "      <th>15222</th>\n",
       "      <td>Tesla</td>\n",
       "      <td>2024-07-05</td>\n",
       "      <td>251.52</td>\n",
       "      <td>154501200</td>\n",
       "      <td>249.81</td>\n",
       "      <td>252.37</td>\n",
       "      <td>242.46</td>\n",
       "    </tr>\n",
       "    <tr>\n",
       "      <th>5184</th>\n",
       "      <td>Apple</td>\n",
       "      <td>2024-06-07</td>\n",
       "      <td>196.89</td>\n",
       "      <td>53103910</td>\n",
       "      <td>194.65</td>\n",
       "      <td>196.94</td>\n",
       "      <td>194.14</td>\n",
       "    </tr>\n",
       "    <tr>\n",
       "      <th>9209</th>\n",
       "      <td>Meta</td>\n",
       "      <td>2023-06-05</td>\n",
       "      <td>271.39</td>\n",
       "      <td>20742950</td>\n",
       "      <td>270.30</td>\n",
       "      <td>275.57</td>\n",
       "      <td>269.56</td>\n",
       "    </tr>\n",
       "    <tr>\n",
       "      <th>9555</th>\n",
       "      <td>Meta</td>\n",
       "      <td>2022-01-18</td>\n",
       "      <td>318.15</td>\n",
       "      <td>22677330</td>\n",
       "      <td>323.29</td>\n",
       "      <td>324.21</td>\n",
       "      <td>317.64</td>\n",
       "    </tr>\n",
       "    <tr>\n",
       "      <th>13149</th>\n",
       "      <td>Oracle</td>\n",
       "      <td>2022-09-30</td>\n",
       "      <td>61.07</td>\n",
       "      <td>9794421</td>\n",
       "      <td>61.26</td>\n",
       "      <td>62.14</td>\n",
       "      <td>61.06</td>\n",
       "    </tr>\n",
       "    <tr>\n",
       "      <th>15923</th>\n",
       "      <td>Tesla</td>\n",
       "      <td>2021-09-20</td>\n",
       "      <td>243.39</td>\n",
       "      <td>74272957</td>\n",
       "      <td>244.85</td>\n",
       "      <td>247.33</td>\n",
       "      <td>239.54</td>\n",
       "    </tr>\n",
       "    <tr>\n",
       "      <th>15698</th>\n",
       "      <td>Tesla</td>\n",
       "      <td>2022-08-11</td>\n",
       "      <td>286.63</td>\n",
       "      <td>70155067</td>\n",
       "      <td>296.51</td>\n",
       "      <td>298.24</td>\n",
       "      <td>285.83</td>\n",
       "    </tr>\n",
       "    <tr>\n",
       "      <th>4724</th>\n",
       "      <td>Amazon</td>\n",
       "      <td>2021-04-08</td>\n",
       "      <td>164.96</td>\n",
       "      <td>56241800</td>\n",
       "      <td>165.54</td>\n",
       "      <td>166.22</td>\n",
       "      <td>164.60</td>\n",
       "    </tr>\n",
       "  </tbody>\n",
       "</table>\n",
       "</div>"
      ],
      "text/plain": [
       "      Empresa       Data  Fechamento     Volume  Abertura  Maximo  Minimo\n",
       "15222   Tesla 2024-07-05      251.52  154501200    249.81  252.37  242.46\n",
       "5184    Apple 2024-06-07      196.89   53103910    194.65  196.94  194.14\n",
       "9209     Meta 2023-06-05      271.39   20742950    270.30  275.57  269.56\n",
       "9555     Meta 2022-01-18      318.15   22677330    323.29  324.21  317.64\n",
       "13149  Oracle 2022-09-30       61.07    9794421     61.26   62.14   61.06\n",
       "15923   Tesla 2021-09-20      243.39   74272957    244.85  247.33  239.54\n",
       "15698   Tesla 2022-08-11      286.63   70155067    296.51  298.24  285.83\n",
       "4724   Amazon 2021-04-08      164.96   56241800    165.54  166.22  164.60"
      ]
     },
     "execution_count": 20,
     "metadata": {},
     "output_type": "execute_result"
    }
   ],
   "source": [
    "# Linhas Aleatórias\n",
    "\n",
    "df_concatenado.sample(8)"
   ]
  },
  {
   "cell_type": "code",
   "execution_count": 21,
   "metadata": {},
   "outputs": [
    {
     "data": {
      "text/html": [
       "<div>\n",
       "<style scoped>\n",
       "    .dataframe tbody tr th:only-of-type {\n",
       "        vertical-align: middle;\n",
       "    }\n",
       "\n",
       "    .dataframe tbody tr th {\n",
       "        vertical-align: top;\n",
       "    }\n",
       "\n",
       "    .dataframe thead th {\n",
       "        text-align: right;\n",
       "    }\n",
       "</style>\n",
       "<table border=\"1\" class=\"dataframe\">\n",
       "  <thead>\n",
       "    <tr style=\"text-align: right;\">\n",
       "      <th></th>\n",
       "      <th>Empresa</th>\n",
       "      <th>Data</th>\n",
       "      <th>Fechamento</th>\n",
       "      <th>Volume</th>\n",
       "      <th>Abertura</th>\n",
       "      <th>Maximo</th>\n",
       "      <th>Minimo</th>\n",
       "    </tr>\n",
       "  </thead>\n",
       "  <tbody>\n",
       "    <tr>\n",
       "      <th>3056</th>\n",
       "      <td>Google (C)</td>\n",
       "      <td>2022-11-22</td>\n",
       "      <td>97.33</td>\n",
       "      <td>18868850</td>\n",
       "      <td>96.16</td>\n",
       "      <td>97.55</td>\n",
       "      <td>94.41</td>\n",
       "    </tr>\n",
       "    <tr>\n",
       "      <th>8845</th>\n",
       "      <td>Meta</td>\n",
       "      <td>2024-11-13</td>\n",
       "      <td>580.00</td>\n",
       "      <td>10757580</td>\n",
       "      <td>582.60</td>\n",
       "      <td>585.64</td>\n",
       "      <td>575.17</td>\n",
       "    </tr>\n",
       "    <tr>\n",
       "      <th>6124</th>\n",
       "      <td>Apple</td>\n",
       "      <td>2020-09-11</td>\n",
       "      <td>112.00</td>\n",
       "      <td>180860300</td>\n",
       "      <td>114.57</td>\n",
       "      <td>115.23</td>\n",
       "      <td>110.00</td>\n",
       "    </tr>\n",
       "    <tr>\n",
       "      <th>8593</th>\n",
       "      <td>Intel</td>\n",
       "      <td>2020-11-13</td>\n",
       "      <td>45.46</td>\n",
       "      <td>30898110</td>\n",
       "      <td>44.99</td>\n",
       "      <td>45.58</td>\n",
       "      <td>44.97</td>\n",
       "    </tr>\n",
       "    <tr>\n",
       "      <th>15030</th>\n",
       "      <td>PayPal</td>\n",
       "      <td>2020-04-09</td>\n",
       "      <td>105.84</td>\n",
       "      <td>10894920</td>\n",
       "      <td>105.63</td>\n",
       "      <td>108.70</td>\n",
       "      <td>104.78</td>\n",
       "    </tr>\n",
       "    <tr>\n",
       "      <th>9455</th>\n",
       "      <td>Meta</td>\n",
       "      <td>2022-06-10</td>\n",
       "      <td>175.57</td>\n",
       "      <td>27478350</td>\n",
       "      <td>183.04</td>\n",
       "      <td>183.10</td>\n",
       "      <td>175.02</td>\n",
       "    </tr>\n",
       "    <tr>\n",
       "      <th>7402</th>\n",
       "      <td>IBM</td>\n",
       "      <td>2020-08-12</td>\n",
       "      <td>122.63</td>\n",
       "      <td>3530177</td>\n",
       "      <td>123.51</td>\n",
       "      <td>123.69</td>\n",
       "      <td>121.84</td>\n",
       "    </tr>\n",
       "    <tr>\n",
       "      <th>6122</th>\n",
       "      <td>Apple</td>\n",
       "      <td>2020-09-15</td>\n",
       "      <td>115.54</td>\n",
       "      <td>184642000</td>\n",
       "      <td>118.33</td>\n",
       "      <td>118.83</td>\n",
       "      <td>113.61</td>\n",
       "    </tr>\n",
       "  </tbody>\n",
       "</table>\n",
       "</div>"
      ],
      "text/plain": [
       "          Empresa       Data  Fechamento     Volume  Abertura  Maximo  Minimo\n",
       "3056   Google (C) 2022-11-22       97.33   18868850     96.16   97.55   94.41\n",
       "8845         Meta 2024-11-13      580.00   10757580    582.60  585.64  575.17\n",
       "6124        Apple 2020-09-11      112.00  180860300    114.57  115.23  110.00\n",
       "8593        Intel 2020-11-13       45.46   30898110     44.99   45.58   44.97\n",
       "15030      PayPal 2020-04-09      105.84   10894920    105.63  108.70  104.78\n",
       "9455         Meta 2022-06-10      175.57   27478350    183.04  183.10  175.02\n",
       "7402          IBM 2020-08-12      122.63    3530177    123.51  123.69  121.84\n",
       "6122        Apple 2020-09-15      115.54  184642000    118.33  118.83  113.61"
      ]
     },
     "execution_count": 21,
     "metadata": {},
     "output_type": "execute_result"
    }
   ],
   "source": [
    "# Linhas Aleatórias\n",
    "\n",
    "df_concatenado.sample(8)"
   ]
  },
  {
   "cell_type": "markdown",
   "metadata": {},
   "source": [
    "### Filtra as Datas de Início e Término do Período (20-01-2021 até 20-01-2025)"
   ]
  },
  {
   "cell_type": "code",
   "execution_count": 22,
   "metadata": {},
   "outputs": [],
   "source": [
    "# Filtrando as linhas e deixando o dataframe somente com datas maiores ou igual a 2021-01-20\n",
    "\n",
    "df_filtrado = df_concatenado[df_concatenado['Data'] >= '2021-01-20']"
   ]
  },
  {
   "cell_type": "code",
   "execution_count": 23,
   "metadata": {},
   "outputs": [],
   "source": [
    "# Filtrando as linhas e deixando o dataframe somente com as datas menores ou igual a 2025-01-20\n",
    "\n",
    "df_filtrado = df_filtrado[df_filtrado['Data'] <= '2025-01-20']"
   ]
  },
  {
   "cell_type": "code",
   "execution_count": 24,
   "metadata": {},
   "outputs": [
    {
     "data": {
      "text/plain": [
       "Timestamp('2021-01-20 00:00:00')"
      ]
     },
     "execution_count": 24,
     "metadata": {},
     "output_type": "execute_result"
    }
   ],
   "source": [
    "# Verifica a Menor Data\n",
    "\n",
    "df_filtrado['Data'].min()"
   ]
  },
  {
   "cell_type": "code",
   "execution_count": 25,
   "metadata": {},
   "outputs": [
    {
     "data": {
      "text/plain": [
       "Timestamp('2025-01-17 00:00:00')"
      ]
     },
     "execution_count": 25,
     "metadata": {},
     "output_type": "execute_result"
    }
   ],
   "source": [
    "# Verifica a Maior Data\n",
    "\n",
    "df_filtrado['Data'].max()"
   ]
  },
  {
   "cell_type": "code",
   "execution_count": 26,
   "metadata": {},
   "outputs": [
    {
     "name": "stdout",
     "output_type": "stream",
     "text": [
      "<class 'pandas.core.frame.DataFrame'>\n",
      "Index: 13065 entries, 3 to 16091\n",
      "Data columns (total 7 columns):\n",
      " #   Column      Non-Null Count  Dtype         \n",
      "---  ------      --------------  -----         \n",
      " 0   Empresa     13065 non-null  object        \n",
      " 1   Data        13065 non-null  datetime64[ns]\n",
      " 2   Fechamento  13065 non-null  float64       \n",
      " 3   Volume      13065 non-null  int64         \n",
      " 4   Abertura    13065 non-null  float64       \n",
      " 5   Maximo      13065 non-null  float64       \n",
      " 6   Minimo      13065 non-null  float64       \n",
      "dtypes: datetime64[ns](1), float64(4), int64(1), object(1)\n",
      "memory usage: 816.6+ KB\n"
     ]
    }
   ],
   "source": [
    "# Informações\n",
    "\n",
    "df_filtrado.info()"
   ]
  },
  {
   "cell_type": "code",
   "execution_count": 27,
   "metadata": {},
   "outputs": [
    {
     "data": {
      "text/html": [
       "<div>\n",
       "<style scoped>\n",
       "    .dataframe tbody tr th:only-of-type {\n",
       "        vertical-align: middle;\n",
       "    }\n",
       "\n",
       "    .dataframe tbody tr th {\n",
       "        vertical-align: top;\n",
       "    }\n",
       "\n",
       "    .dataframe thead th {\n",
       "        text-align: right;\n",
       "    }\n",
       "</style>\n",
       "<table border=\"1\" class=\"dataframe\">\n",
       "  <thead>\n",
       "    <tr style=\"text-align: right;\">\n",
       "      <th></th>\n",
       "      <th>Empresa</th>\n",
       "      <th>Data</th>\n",
       "      <th>Fechamento</th>\n",
       "      <th>Volume</th>\n",
       "      <th>Abertura</th>\n",
       "      <th>Maximo</th>\n",
       "      <th>Minimo</th>\n",
       "    </tr>\n",
       "  </thead>\n",
       "  <tbody>\n",
       "    <tr>\n",
       "      <th>2579</th>\n",
       "      <td>Google (C)</td>\n",
       "      <td>2024-10-17</td>\n",
       "      <td>164.51</td>\n",
       "      <td>15113360</td>\n",
       "      <td>167.38</td>\n",
       "      <td>167.93</td>\n",
       "      <td>164.37</td>\n",
       "    </tr>\n",
       "    <tr>\n",
       "      <th>680</th>\n",
       "      <td>Adobe</td>\n",
       "      <td>2022-05-06</td>\n",
       "      <td>391.01</td>\n",
       "      <td>3522430</td>\n",
       "      <td>395.00</td>\n",
       "      <td>401.26</td>\n",
       "      <td>382.82</td>\n",
       "    </tr>\n",
       "    <tr>\n",
       "      <th>9223</th>\n",
       "      <td>Meta</td>\n",
       "      <td>2023-05-15</td>\n",
       "      <td>238.86</td>\n",
       "      <td>20653230</td>\n",
       "      <td>236.92</td>\n",
       "      <td>240.26</td>\n",
       "      <td>235.33</td>\n",
       "    </tr>\n",
       "    <tr>\n",
       "      <th>4700</th>\n",
       "      <td>Amazon</td>\n",
       "      <td>2021-05-12</td>\n",
       "      <td>157.60</td>\n",
       "      <td>98728200</td>\n",
       "      <td>159.25</td>\n",
       "      <td>160.40</td>\n",
       "      <td>156.66</td>\n",
       "    </tr>\n",
       "    <tr>\n",
       "      <th>5227</th>\n",
       "      <td>Apple</td>\n",
       "      <td>2024-04-08</td>\n",
       "      <td>168.45</td>\n",
       "      <td>37425510</td>\n",
       "      <td>169.03</td>\n",
       "      <td>169.20</td>\n",
       "      <td>168.24</td>\n",
       "    </tr>\n",
       "    <tr>\n",
       "      <th>13422</th>\n",
       "      <td>Oracle</td>\n",
       "      <td>2021-08-31</td>\n",
       "      <td>89.13</td>\n",
       "      <td>8113258</td>\n",
       "      <td>89.45</td>\n",
       "      <td>89.50</td>\n",
       "      <td>88.49</td>\n",
       "    </tr>\n",
       "  </tbody>\n",
       "</table>\n",
       "</div>"
      ],
      "text/plain": [
       "          Empresa       Data  Fechamento    Volume  Abertura  Maximo  Minimo\n",
       "2579   Google (C) 2024-10-17      164.51  15113360    167.38  167.93  164.37\n",
       "680         Adobe 2022-05-06      391.01   3522430    395.00  401.26  382.82\n",
       "9223         Meta 2023-05-15      238.86  20653230    236.92  240.26  235.33\n",
       "4700       Amazon 2021-05-12      157.60  98728200    159.25  160.40  156.66\n",
       "5227        Apple 2024-04-08      168.45  37425510    169.03  169.20  168.24\n",
       "13422      Oracle 2021-08-31       89.13   8113258     89.45   89.50   88.49"
      ]
     },
     "execution_count": 27,
     "metadata": {},
     "output_type": "execute_result"
    }
   ],
   "source": [
    "# Linhas Aleatórias\n",
    "\n",
    "df_filtrado.sample(6)"
   ]
  },
  {
   "cell_type": "markdown",
   "metadata": {},
   "source": [
    "## Salva o Dataframe em um arquivo Excel"
   ]
  },
  {
   "cell_type": "code",
   "execution_count": 28,
   "metadata": {},
   "outputs": [],
   "source": [
    "# Salvando o DataFrame (sem o indice) em um arquivo .xlsx\n",
    "\n",
    "df_filtrado.to_excel('StockMarket.xlsx', sheet_name='StockMarket', index=False)"
   ]
  }
 ],
 "metadata": {
  "kernelspec": {
   "display_name": "venv",
   "language": "python",
   "name": "python3"
  },
  "language_info": {
   "codemirror_mode": {
    "name": "ipython",
    "version": 3
   },
   "file_extension": ".py",
   "mimetype": "text/x-python",
   "name": "python",
   "nbconvert_exporter": "python",
   "pygments_lexer": "ipython3",
   "version": "3.12.5"
  }
 },
 "nbformat": 4,
 "nbformat_minor": 2
}
